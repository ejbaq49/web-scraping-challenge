{
 "cells": [
  {
   "cell_type": "markdown",
   "metadata": {},
   "source": [
    "# Mission to Mars (Data Scraping)\n",
    "\n",
    "### Running this notebook will also initialize the database for the first visit to the web site"
   ]
  },
  {
   "cell_type": "code",
   "execution_count": 1,
   "metadata": {},
   "outputs": [],
   "source": [
    "# Dependencies\n",
    "import pandas as pd\n",
    "from splinter import Browser\n",
    "from bs4 import BeautifulSoup\n",
    "import pymongo\n",
    "import requests\n",
    "import time\n",
    "from pprint import pprint"
   ]
  },
  {
   "cell_type": "code",
   "execution_count": 2,
   "metadata": {
    "tags": []
   },
   "outputs": [],
   "source": [
    "# url list for scraping\n",
    "url_mars_news = 'https://mars.nasa.gov/news/'\n",
    "url_jpl_image = 'https://www.jpl.nasa.gov/spaceimages/?search=&category=Mars'\n",
    "url_mars_weather = 'https://twitter.com/marswxreport?lang=en'\n",
    "url_mars_facts = 'https://space-facts.com/mars/'\n",
    "url_hemispheres = 'https://astrogeology.usgs.gov/search/results?q=hemisphere+enhanced&k1=target&v1=Mars'\n",
    "\n",
    "# result dictionary; will be saved to MongoDB\n",
    "planet_data = {}\n",
    "\n",
    "# Setup connection to MongoDB\n",
    "conn = \"mongodb://localhost:27017\"\n",
    "client = pymongo.MongoClient(conn)\n",
    "\n",
    "# Select database and collection to use\n",
    "db = client.planet_db\n",
    "planet_coll = db.planet_data\n",
    "\n",
    "# clear collection documents \n",
    "planet_coll.drop()"
   ]
  },
  {
   "cell_type": "markdown",
   "metadata": {},
   "source": [
    "## Mars News"
   ]
  },
  {
   "cell_type": "code",
   "execution_count": 3,
   "metadata": {
    "tags": []
   },
   "outputs": [],
   "source": [
    "# Initialize browser; visit appropriate url; pause for 1 second\n",
    "executable_path = {'executable_path': 'chromedriver.exe'}\n",
    "browser = Browser('chrome', **executable_path, headless=True)\n",
    "\n",
    "browser.visit(url_mars_news)\n",
    "\n",
    "time.sleep(1)\n",
    "\n",
    "html = browser.html\n",
    "soup = BeautifulSoup(html, 'html.parser')\n",
    "\n",
    "# Extract title and teaser from html\n",
    "news_title = soup.find('div', class_=\"list_text\").find('div', class_=\"content_title\").get_text(strip=True)\n",
    "news_teaser = soup.find('div', class_=\"article_teaser_body\").get_text(strip=True)\n",
    "\n",
    "# Save to dictionary\n",
    "planet_data['news_title'] = news_title\n",
    "planet_data['news_teaser'] = news_teaser\n",
    "\n",
    "browser.quit()"
   ]
  },
  {
   "cell_type": "markdown",
   "metadata": {},
   "source": [
    "## JPL Featured Space Image"
   ]
  },
  {
   "cell_type": "code",
   "execution_count": 4,
   "metadata": {
    "tags": []
   },
   "outputs": [],
   "source": [
    "# Root web site for image search\n",
    "image_root = 'https://www.jpl.nasa.gov'\n",
    "\n",
    "# Initialize browser; visit appropriate url; pause for 1 second\n",
    "executable_path = {'executable_path': 'chromedriver.exe'}\n",
    "browser = Browser('chrome', **executable_path, headless=True)\n",
    "\n",
    "browser.visit(url_jpl_image)\n",
    "\n",
    "time.sleep(1)\n",
    "\n",
    "html = browser.html\n",
    "soup = BeautifulSoup(html, 'html.parser')\n",
    "\n",
    "# Extract 2nd half of image path using string search for \"url\" and \"jpg\"\n",
    "jpg_path = soup.find('article', class_=\"carousel_item\")[\"style\"]\n",
    "featured_image_url = image_root + jpg_path[jpg_path.find('url')+5:jpg_path.find('jpg')+3]\n",
    "\n",
    "# Save to dictionary\n",
    "planet_data['featured_image_url'] = featured_image_url\n",
    "\n",
    "browser.quit()"
   ]
  },
  {
   "cell_type": "markdown",
   "metadata": {},
   "source": [
    "## Weather"
   ]
  },
  {
   "cell_type": "code",
   "execution_count": 5,
   "metadata": {
    "tags": []
   },
   "outputs": [],
   "source": [
    "# Initialize browser; visit appropriate url; pause for 1 second\n",
    "executable_path = {'executable_path': 'chromedriver.exe'}\n",
    "browser = Browser('chrome', **executable_path, headless=True)\n",
    "\n",
    "browser.visit(url_mars_weather)\n",
    "\n",
    "time.sleep(1)\n",
    "\n",
    "html = browser.html\n",
    "soup = BeautifulSoup(html, 'html.parser')\n",
    "\n",
    "# Extract weather tweet\n",
    "weather_tweet = soup.find('div', attrs = {'class': 'css-901oao', 'lang': 'en', 'dir':'auto'}).get_text(strip=True)\n",
    "\n",
    "# Save to dictionary\n",
    "planet_data['weather_tweet'] = weather_tweet\n",
    "\n",
    "browser.quit()\n",
    "\n"
   ]
  },
  {
   "cell_type": "markdown",
   "metadata": {},
   "source": [
    "## Facts"
   ]
  },
  {
   "cell_type": "code",
   "execution_count": 6,
   "metadata": {},
   "outputs": [],
   "source": [
    "# use Pandas to scrape Mars fact table from web site url\n",
    "tables = pd.read_html(url_mars_facts)\n",
    "\n",
    "# Build and format DataFrame\n",
    "mars_facts_df = tables[0]\n",
    "mars_facts_df.columns = ['attribute', 'value']\n",
    "mars_facts_df.set_index('attribute', inplace=True)\n",
    "\n",
    "# Convert df to html table\n",
    "facts_html = mars_facts_df.to_html()\n",
    "\n",
    "# Save to dictionary\n",
    "planet_data['planet_facts_html'] = facts_html\n"
   ]
  },
  {
   "cell_type": "markdown",
   "metadata": {},
   "source": [
    "## Hemisphere Photos"
   ]
  },
  {
   "cell_type": "code",
   "execution_count": 7,
   "metadata": {
    "tags": []
   },
   "outputs": [],
   "source": [
    "# Initialize browser; visit appropriate url; pause for 1 second\n",
    "executable_path = {'executable_path': 'chromedriver.exe'}\n",
    "browser = Browser('chrome', **executable_path, headless=True)\n",
    "\n",
    "browser.visit(url_hemispheres)\n",
    "\n",
    "image_base_url = 'https://astrogeology.usgs.gov'\n",
    "\n",
    "time.sleep(1)\n",
    "\n",
    "html = browser.html\n",
    "soup = BeautifulSoup(html, 'html.parser')\n",
    "\n",
    "# find all anchors that contain images\n",
    "images_html = soup.find_all('a', class_='itemLink product-item')\n",
    "\n",
    "# get url list for all hemispheres\n",
    "hemisphere_urls = []\n",
    "for element in images_html:\n",
    "    if element.find('h3'):\n",
    "        # print(element.prettify())\n",
    "        hemisphere_urls.append(image_base_url + element['href'])\n",
    "\n",
    "\n",
    "# Browse to hemisphere url and get full image path and description\n",
    "hemisphere_image_urls = []\n",
    "for h_url in hemisphere_urls:\n",
    "    # Visit url and sleep; this site loaded quicker\n",
    "    browser.visit(h_url)\n",
    "    time.sleep(0.5)\n",
    "    \n",
    "    h_html = browser.html\n",
    "    soup = BeautifulSoup(h_html, 'html.parser')\n",
    "\n",
    "    # Extract full res title and url\n",
    "    full_res_title = soup.find('h2', class_=\"title\").get_text(strip=True)\n",
    "    full_res_url = soup.find('a', text='Sample')['href']\n",
    "\n",
    "    # Save as dictionary\n",
    "    hemisphere_image_urls.append({\n",
    "        'title': full_res_title,\n",
    "        'img_url': full_res_url\n",
    "    })\n",
    "\n",
    "\n",
    "browser.quit()\n",
    "\n",
    "# Save dictionary to main dictionary\n",
    "planet_data['hemisphere_image_urls'] = hemisphere_image_urls"
   ]
  },
  {
   "cell_type": "code",
   "execution_count": 8,
   "metadata": {},
   "outputs": [
    {
     "output_type": "execute_result",
     "data": {
      "text/plain": "<pymongo.results.InsertOneResult at 0x186682205c8>"
     },
     "metadata": {},
     "execution_count": 8
    }
   ],
   "source": [
    "# Add final result dictionary as document to MongoDB\n",
    "planet_coll.insert_one(planet_data)"
   ]
  },
  {
   "cell_type": "code",
   "execution_count": 9,
   "metadata": {
    "tags": []
   },
   "outputs": [
    {
     "output_type": "stream",
     "name": "stdout",
     "text": "{'_id': ObjectId('5f3564f453960d5eee2b2649'),\n 'featured_image_url': 'https://www.jpl.nasa.gov/spaceimages/images/wallpaper/PIA19920-1920x1200.jpg',\n 'hemisphere_image_urls': [{'img_url': 'https://astropedia.astrogeology.usgs.gov/download/Mars/Viking/cerberus_enhanced.tif/full.jpg',\n                            'title': 'Cerberus Hemisphere Enhanced'},\n                           {'img_url': 'https://astropedia.astrogeology.usgs.gov/download/Mars/Viking/schiaparelli_enhanced.tif/full.jpg',\n                            'title': 'Schiaparelli Hemisphere Enhanced'},\n                           {'img_url': 'https://astropedia.astrogeology.usgs.gov/download/Mars/Viking/syrtis_major_enhanced.tif/full.jpg',\n                            'title': 'Syrtis Major Hemisphere Enhanced'},\n                           {'img_url': 'https://astropedia.astrogeology.usgs.gov/download/Mars/Viking/valles_marineris_enhanced.tif/full.jpg',\n                            'title': 'Valles Marineris Hemisphere Enhanced'}],\n 'news_teaser': 'Headed to the Red Planet with the Perseverance rover, the '\n                'pioneering helicopter is powered up for the first time in '\n                'interplanetary space as part of a systems check.',\n 'news_title': \"NASA's Ingenuity Mars Helicopter Recharges Its Batteries in \"\n               'Flight',\n 'planet_facts_html': '<table border=\"1\" class=\"dataframe\">\\n'\n                      '  <thead>\\n'\n                      '    <tr style=\"text-align: right;\">\\n'\n                      '      <th></th>\\n'\n                      '      <th>value</th>\\n'\n                      '    </tr>\\n'\n                      '    <tr>\\n'\n                      '      <th>attribute</th>\\n'\n                      '      <th></th>\\n'\n                      '    </tr>\\n'\n                      '  </thead>\\n'\n                      '  <tbody>\\n'\n                      '    <tr>\\n'\n                      '      <th>Equatorial Diameter:</th>\\n'\n                      '      <td>6,792 km</td>\\n'\n                      '    </tr>\\n'\n                      '    <tr>\\n'\n                      '      <th>Polar Diameter:</th>\\n'\n                      '      <td>6,752 km</td>\\n'\n                      '    </tr>\\n'\n                      '    <tr>\\n'\n                      '      <th>Mass:</th>\\n'\n                      '      <td>6.39 × 10^23 kg (0.11 Earths)</td>\\n'\n                      '    </tr>\\n'\n                      '    <tr>\\n'\n                      '      <th>Moons:</th>\\n'\n                      '      <td>2 (Phobos &amp; Deimos)</td>\\n'\n                      '    </tr>\\n'\n                      '    <tr>\\n'\n                      '      <th>Orbit Distance:</th>\\n'\n                      '      <td>227,943,824 km (1.38 AU)</td>\\n'\n                      '    </tr>\\n'\n                      '    <tr>\\n'\n                      '      <th>Orbit Period:</th>\\n'\n                      '      <td>687 days (1.9 years)</td>\\n'\n                      '    </tr>\\n'\n                      '    <tr>\\n'\n                      '      <th>Surface Temperature:</th>\\n'\n                      '      <td>-87 to -5 °C</td>\\n'\n                      '    </tr>\\n'\n                      '    <tr>\\n'\n                      '      <th>First Record:</th>\\n'\n                      '      <td>2nd millennium BC</td>\\n'\n                      '    </tr>\\n'\n                      '    <tr>\\n'\n                      '      <th>Recorded By:</th>\\n'\n                      '      <td>Egyptian astronomers</td>\\n'\n                      '    </tr>\\n'\n                      '  </tbody>\\n'\n                      '</table>',\n 'weather_tweet': 'InSight sol 608 (2020-08-11) low -93.0ºC (-135.5ºF) high '\n                  '-19.5ºC (-3.1ºF)\\n'\n                  'winds from the WNW at 8.5 m/s (19.0 mph) gusting to 23.8 '\n                  'm/s (53.3 mph)\\n'\n                  'pressure at 7.90 hPa'}\n"
    }
   ],
   "source": [
    "# View final result\n",
    "pprint(planet_data)"
   ]
  },
  {
   "cell_type": "code",
   "execution_count": null,
   "metadata": {},
   "outputs": [],
   "source": []
  }
 ],
 "metadata": {
  "kernelspec": {
   "display_name": "Python 3.6.10 64-bit ('PythonData': conda)",
   "language": "python",
   "name": "python361064bitpythondataconda2a9a3c884c40400db426ae2e3e580487"
  },
  "language_info": {
   "codemirror_mode": {
    "name": "ipython",
    "version": 3
   },
   "file_extension": ".py",
   "mimetype": "text/x-python",
   "name": "python",
   "nbconvert_exporter": "python",
   "pygments_lexer": "ipython3",
   "version": "3.6.10-final"
  }
 },
 "nbformat": 4,
 "nbformat_minor": 2
}