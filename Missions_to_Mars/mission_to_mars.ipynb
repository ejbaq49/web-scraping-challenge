{
 "metadata": {
  "language_info": {
   "codemirror_mode": {
    "name": "ipython",
    "version": 3
   },
   "file_extension": ".py",
   "mimetype": "text/x-python",
   "name": "python",
   "nbconvert_exporter": "python",
   "pygments_lexer": "ipython3",
   "version": "3.6.10-final"
  },
  "orig_nbformat": 2,
  "kernelspec": {
   "name": "python361064bitpythondataconda2a9a3c884c40400db426ae2e3e580487",
   "display_name": "Python 3.6.10 64-bit ('PythonData': conda)"
  }
 },
 "nbformat": 4,
 "nbformat_minor": 2,
 "cells": [
  {
   "cell_type": "markdown",
   "metadata": {},
   "source": [
    "# Mission to Mars (Data Scraping)\n",
    "\n",
    "### Running this notebook will also initialize the database for the first visit to the web site"
   ]
  },
  {
   "cell_type": "code",
   "execution_count": 1,
   "metadata": {},
   "outputs": [],
   "source": [
    "# All scraping and analysis\n",
    "import pandas as pd\n",
    "from splinter import Browser\n",
    "from bs4 import BeautifulSoup\n",
    "import pymongo\n",
    "import requests\n",
    "import time"
   ]
  },
  {
   "cell_type": "code",
   "execution_count": 2,
   "metadata": {},
   "outputs": [],
   "source": [
    "#url list\n",
    "url_mars_news = 'https://mars.nasa.gov/news/'\n",
    "url_jpl_image = 'https://www.jpl.nasa.gov/spaceimages/?search=&category=Mars'\n",
    "url_mars_weather = 'https://twitter.com/marswxreport?lang=en'\n",
    "url_mars_facts = 'https://space-facts.com/mars/'\n",
    "url_hemispheres = 'https://astrogeology.usgs.gov/search/results?q=hemisphere+enhanced&k1=target&v1=Mars'\n",
    "\n",
    "# result dictionary\n",
    "planet_data = {}\n",
    "\n",
    "# Setup connection to mongodb\n",
    "conn = \"mongodb://localhost:27017\"\n",
    "client = pymongo.MongoClient(conn)\n",
    "\n",
    "# Select database and collection to use\n",
    "db = client.planet_db\n",
    "planet_coll = db.planet_data\n"
   ]
  },
  {
   "cell_type": "markdown",
   "metadata": {},
   "source": [
    "## Mars News"
   ]
  },
  {
   "cell_type": "code",
   "execution_count": 3,
   "metadata": {
    "tags": []
   },
   "outputs": [
    {
     "output_type": "stream",
     "name": "stdout",
     "text": "NASA's MAVEN Observes Martian Night Sky Pulsing in Ultraviolet Light\n-------------------\nVast areas of the Martian night sky pulse in ultraviolet light, according to images from NASA’s MAVEN spacecraft. The results are being used to illuminate complex circulation patterns in the Martian atmosphere.\n"
    }
   ],
   "source": [
    "executable_path = {'executable_path': 'chromedriver.exe'}\n",
    "browser = Browser('chrome', **executable_path, headless=True)\n",
    "\n",
    "browser.visit(url_mars_news)\n",
    "\n",
    "time.sleep(1)\n",
    "\n",
    "html = browser.html\n",
    "soup = BeautifulSoup(html, 'html.parser')\n",
    "\n",
    "news_title = soup.find('div', class_=\"list_text\").find('div', class_=\"content_title\").get_text(strip=True)\n",
    "news_teaser = soup.find('div', class_=\"article_teaser_body\").get_text(strip=True)\n",
    "\n",
    "# print(news_title)\n",
    "# print('-------------------')\n",
    "# print(news_teaser)\n",
    "\n",
    "planet_data['news_title'] = news_title\n",
    "planet_data['news_teaser'] = news_teaser\n",
    "\n",
    "browser.quit()"
   ]
  },
  {
   "cell_type": "markdown",
   "metadata": {},
   "source": [
    "## JPL Featured Space Image"
   ]
  },
  {
   "cell_type": "code",
   "execution_count": 4,
   "metadata": {
    "tags": []
   },
   "outputs": [
    {
     "output_type": "stream",
     "name": "stdout",
     "text": "https://www.jpl.nasa.gov/spaceimages/images/wallpaper/PIA16217-1920x1200.jpg\n"
    }
   ],
   "source": [
    "image_root = 'https://www.jpl.nasa.gov'\n",
    "\n",
    "executable_path = {'executable_path': 'chromedriver.exe'}\n",
    "browser = Browser('chrome', **executable_path, headless=True)\n",
    "\n",
    "browser.visit(url_jpl_image)\n",
    "\n",
    "time.sleep(1)\n",
    "\n",
    "html = browser.html\n",
    "soup = BeautifulSoup(html, 'html.parser')\n",
    "\n",
    "jpg_path = soup.find('article', class_=\"carousel_item\")[\"style\"]\n",
    "\n",
    "# print(jpg_path)\n",
    "# print(jpg_path.find('url'))\n",
    "# print(jpg_path[23:])\n",
    "featured_image_url = image_root + jpg_path[jpg_path.find('url')+5:jpg_path.find('jpg')+3]\n",
    "# print(jpg_path[jpg_path.find('url')+5:jpg_path.find('jpg')+3])\n",
    "# print(featured_image_url)\n",
    "\n",
    "planet_data['featured_image_url'] = featured_image_url\n",
    "\n",
    "browser.quit()"
   ]
  },
  {
   "cell_type": "markdown",
   "metadata": {},
   "source": [
    "## Weather"
   ]
  },
  {
   "cell_type": "code",
   "execution_count": 5,
   "metadata": {
    "tags": []
   },
   "outputs": [],
   "source": [
    "executable_path = {'executable_path': 'chromedriver.exe'}\n",
    "browser = Browser('chrome', **executable_path, headless=True)\n",
    "\n",
    "browser.visit(url_mars_weather)\n",
    "\n",
    "time.sleep(1)\n",
    "\n",
    "html = browser.html\n",
    "soup = BeautifulSoup(html, 'html.parser')\n",
    "\n",
    "weather_tweet = soup.find('div', attrs = {'class': 'css-901oao', 'lang': 'en', 'dir':'auto'}).get_text(strip=True)\n",
    "\n",
    "planet_data['weather_tweet'] = weather_tweet\n",
    "\n",
    "browser.quit()\n",
    "\n"
   ]
  },
  {
   "cell_type": "markdown",
   "metadata": {},
   "source": [
    "## Facts"
   ]
  },
  {
   "cell_type": "code",
   "execution_count": 6,
   "metadata": {},
   "outputs": [
    {
     "output_type": "execute_result",
     "data": {
      "text/plain": "'<table border=\"1\" class=\"dataframe\">\\n  <thead>\\n    <tr style=\"text-align: right;\">\\n      <th></th>\\n      <th>value</th>\\n    </tr>\\n    <tr>\\n      <th>attribute</th>\\n      <th></th>\\n    </tr>\\n  </thead>\\n  <tbody>\\n    <tr>\\n      <th>Equatorial Diameter:</th>\\n      <td>6,792 km</td>\\n    </tr>\\n    <tr>\\n      <th>Polar Diameter:</th>\\n      <td>6,752 km</td>\\n    </tr>\\n    <tr>\\n      <th>Mass:</th>\\n      <td>6.39 × 10^23 kg (0.11 Earths)</td>\\n    </tr>\\n    <tr>\\n      <th>Moons:</th>\\n      <td>2 (Phobos &amp; Deimos)</td>\\n    </tr>\\n    <tr>\\n      <th>Orbit Distance:</th>\\n      <td>227,943,824 km (1.38 AU)</td>\\n    </tr>\\n    <tr>\\n      <th>Orbit Period:</th>\\n      <td>687 days (1.9 years)</td>\\n    </tr>\\n    <tr>\\n      <th>Surface Temperature:</th>\\n      <td>-87 to -5 °C</td>\\n    </tr>\\n    <tr>\\n      <th>First Record:</th>\\n      <td>2nd millennium BC</td>\\n    </tr>\\n    <tr>\\n      <th>Recorded By:</th>\\n      <td>Egyptian astronomers</td>\\n    </tr>\\n  </tbody>\\n</table>'"
     },
     "metadata": {},
     "execution_count": 6
    }
   ],
   "source": [
    "\n",
    "tables = pd.read_html(url_mars_facts)\n",
    "mars_facts_df = tables[0]\n",
    "mars_facts_df.columns = ['attribute', 'value']\n",
    "mars_facts_df.set_index('attribute', inplace=True)\n",
    "# mars_facts_df\n",
    "facts_html = mars_facts_df.to_html()\n",
    "planet_data['planet_facts_html'] = facts_html\n"
   ]
  },
  {
   "cell_type": "markdown",
   "metadata": {},
   "source": [
    "## Hemisphere Photos"
   ]
  },
  {
   "cell_type": "code",
   "execution_count": 7,
   "metadata": {
    "tags": []
   },
   "outputs": [
    {
     "output_type": "execute_result",
     "data": {
      "text/plain": "[{'title': 'Cerberus Hemisphere Enhanced',\n  'img_url': 'https://astropedia.astrogeology.usgs.gov/download/Mars/Viking/cerberus_enhanced.tif/full.jpg'},\n {'title': 'Schiaparelli Hemisphere Enhanced',\n  'img_url': 'https://astropedia.astrogeology.usgs.gov/download/Mars/Viking/schiaparelli_enhanced.tif/full.jpg'},\n {'title': 'Syrtis Major Hemisphere Enhanced',\n  'img_url': 'https://astropedia.astrogeology.usgs.gov/download/Mars/Viking/syrtis_major_enhanced.tif/full.jpg'},\n {'title': 'Valles Marineris Hemisphere Enhanced',\n  'img_url': 'https://astropedia.astrogeology.usgs.gov/download/Mars/Viking/valles_marineris_enhanced.tif/full.jpg'}]"
     },
     "metadata": {},
     "execution_count": 7
    }
   ],
   "source": [
    "executable_path = {'executable_path': 'chromedriver.exe'}\n",
    "browser = Browser('chrome', **executable_path, headless=True)\n",
    "\n",
    "browser.visit(url_hemispheres)\n",
    "\n",
    "image_base_url = 'https://astrogeology.usgs.gov'\n",
    "\n",
    "time.sleep(1)\n",
    "\n",
    "html = browser.html\n",
    "soup = BeautifulSoup(html, 'html.parser')\n",
    "\n",
    "images_html = soup.find_all('a', class_='itemLink product-item')\n",
    "\n",
    "# get url list for all hemispheres\n",
    "hemisphere_urls = []\n",
    "for element in images_html:\n",
    "    if element.find('h3'):\n",
    "        # print(element.prettify())\n",
    "        hemisphere_urls.append(image_base_url + element['href'])\n",
    "        # print(element.find('h3').get_text(strip=True))\n",
    "        # print(image_base_url + element['href'])\n",
    "        # print('--------------------------------------')\n",
    "\n",
    "\n",
    "# to to hemisphere url and get full image path and description\n",
    "hemisphere_image_urls = []\n",
    "for h_url in hemisphere_urls:\n",
    "    # print(h_url)\n",
    "    browser.visit(h_url)\n",
    "    time.sleep(0.5)\n",
    "    \n",
    "    h_html = browser.html\n",
    "    soup = BeautifulSoup(h_html, 'html.parser')\n",
    "\n",
    "    full_res_title = soup.find('h2', class_=\"title\").get_text(strip=True)\n",
    "    # print(full_res_title)\n",
    "\n",
    "    full_res_url = soup.find('a', text='Sample')['href']\n",
    "    # print(full_res_url)\n",
    "\n",
    "    hemisphere_image_urls.append({\n",
    "        'title': full_res_title,\n",
    "        'img_url': full_res_url\n",
    "    })\n",
    "\n",
    "\n",
    "\n",
    "browser.quit()\n",
    "\n",
    "# hemisphere_urls\n",
    "planet_data['hemisphere_image_urls'] = hemisphere_image_urls"
   ]
  },
  {
   "cell_type": "code",
   "execution_count": null,
   "metadata": {},
   "outputs": [],
   "source": [
    "planet_coll.insert_one(planet_data)"
   ]
  }
 ]
}